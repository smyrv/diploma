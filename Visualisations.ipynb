{
  "nbformat": 4,
  "nbformat_minor": 0,
  "metadata": {
    "colab": {
      "provenance": []
    },
    "kernelspec": {
      "name": "python3",
      "display_name": "Python 3"
    },
    "language_info": {
      "name": "python"
    },
    "widgets": {
      "application/vnd.jupyter.widget-state+json": {
        "2a2e55024e5548f791acebbcbfabeed2": {
          "model_module": "@jupyter-widgets/controls",
          "model_name": "HBoxModel",
          "model_module_version": "1.5.0",
          "state": {
            "_dom_classes": [],
            "_model_module": "@jupyter-widgets/controls",
            "_model_module_version": "1.5.0",
            "_model_name": "HBoxModel",
            "_view_count": null,
            "_view_module": "@jupyter-widgets/controls",
            "_view_module_version": "1.5.0",
            "_view_name": "HBoxView",
            "box_style": "",
            "children": [
              "IPY_MODEL_5e2b1c6bf7e341c3880f6f49601bf88b",
              "IPY_MODEL_f4f3548fd5054a37900c4831364293e1",
              "IPY_MODEL_a5d06391e0ba4ce79d251eb9fac3d323"
            ],
            "layout": "IPY_MODEL_93769207d7d942bc897a231d06fa7772"
          }
        },
        "5e2b1c6bf7e341c3880f6f49601bf88b": {
          "model_module": "@jupyter-widgets/controls",
          "model_name": "HTMLModel",
          "model_module_version": "1.5.0",
          "state": {
            "_dom_classes": [],
            "_model_module": "@jupyter-widgets/controls",
            "_model_module_version": "1.5.0",
            "_model_name": "HTMLModel",
            "_view_count": null,
            "_view_module": "@jupyter-widgets/controls",
            "_view_module_version": "1.5.0",
            "_view_name": "HTMLView",
            "description": "",
            "description_tooltip": null,
            "layout": "IPY_MODEL_d3036f9a9b5c4487bca51f3dcf4a7779",
            "placeholder": "​",
            "style": "IPY_MODEL_c2232a09df4b4f31b70b80d407390387",
            "value": "Summarize dataset: 100%"
          }
        },
        "f4f3548fd5054a37900c4831364293e1": {
          "model_module": "@jupyter-widgets/controls",
          "model_name": "FloatProgressModel",
          "model_module_version": "1.5.0",
          "state": {
            "_dom_classes": [],
            "_model_module": "@jupyter-widgets/controls",
            "_model_module_version": "1.5.0",
            "_model_name": "FloatProgressModel",
            "_view_count": null,
            "_view_module": "@jupyter-widgets/controls",
            "_view_module_version": "1.5.0",
            "_view_name": "ProgressView",
            "bar_style": "success",
            "description": "",
            "description_tooltip": null,
            "layout": "IPY_MODEL_99badd265e7340908859b3dfa9032569",
            "max": 5,
            "min": 0,
            "orientation": "horizontal",
            "style": "IPY_MODEL_eca8f0b4401744d79aa7fe12e631f05a",
            "value": 5
          }
        },
        "a5d06391e0ba4ce79d251eb9fac3d323": {
          "model_module": "@jupyter-widgets/controls",
          "model_name": "HTMLModel",
          "model_module_version": "1.5.0",
          "state": {
            "_dom_classes": [],
            "_model_module": "@jupyter-widgets/controls",
            "_model_module_version": "1.5.0",
            "_model_name": "HTMLModel",
            "_view_count": null,
            "_view_module": "@jupyter-widgets/controls",
            "_view_module_version": "1.5.0",
            "_view_name": "HTMLView",
            "description": "",
            "description_tooltip": null,
            "layout": "IPY_MODEL_1146959e8b894ad4817dbc344c32dad0",
            "placeholder": "​",
            "style": "IPY_MODEL_5088011930fa437fba5cd99fd2e7223f",
            "value": " 46/46 [00:15&lt;00:00,  2.58it/s, Completed]"
          }
        },
        "93769207d7d942bc897a231d06fa7772": {
          "model_module": "@jupyter-widgets/base",
          "model_name": "LayoutModel",
          "model_module_version": "1.2.0",
          "state": {
            "_model_module": "@jupyter-widgets/base",
            "_model_module_version": "1.2.0",
            "_model_name": "LayoutModel",
            "_view_count": null,
            "_view_module": "@jupyter-widgets/base",
            "_view_module_version": "1.2.0",
            "_view_name": "LayoutView",
            "align_content": null,
            "align_items": null,
            "align_self": null,
            "border": null,
            "bottom": null,
            "display": null,
            "flex": null,
            "flex_flow": null,
            "grid_area": null,
            "grid_auto_columns": null,
            "grid_auto_flow": null,
            "grid_auto_rows": null,
            "grid_column": null,
            "grid_gap": null,
            "grid_row": null,
            "grid_template_areas": null,
            "grid_template_columns": null,
            "grid_template_rows": null,
            "height": null,
            "justify_content": null,
            "justify_items": null,
            "left": null,
            "margin": null,
            "max_height": null,
            "max_width": null,
            "min_height": null,
            "min_width": null,
            "object_fit": null,
            "object_position": null,
            "order": null,
            "overflow": null,
            "overflow_x": null,
            "overflow_y": null,
            "padding": null,
            "right": null,
            "top": null,
            "visibility": null,
            "width": null
          }
        },
        "d3036f9a9b5c4487bca51f3dcf4a7779": {
          "model_module": "@jupyter-widgets/base",
          "model_name": "LayoutModel",
          "model_module_version": "1.2.0",
          "state": {
            "_model_module": "@jupyter-widgets/base",
            "_model_module_version": "1.2.0",
            "_model_name": "LayoutModel",
            "_view_count": null,
            "_view_module": "@jupyter-widgets/base",
            "_view_module_version": "1.2.0",
            "_view_name": "LayoutView",
            "align_content": null,
            "align_items": null,
            "align_self": null,
            "border": null,
            "bottom": null,
            "display": null,
            "flex": null,
            "flex_flow": null,
            "grid_area": null,
            "grid_auto_columns": null,
            "grid_auto_flow": null,
            "grid_auto_rows": null,
            "grid_column": null,
            "grid_gap": null,
            "grid_row": null,
            "grid_template_areas": null,
            "grid_template_columns": null,
            "grid_template_rows": null,
            "height": null,
            "justify_content": null,
            "justify_items": null,
            "left": null,
            "margin": null,
            "max_height": null,
            "max_width": null,
            "min_height": null,
            "min_width": null,
            "object_fit": null,
            "object_position": null,
            "order": null,
            "overflow": null,
            "overflow_x": null,
            "overflow_y": null,
            "padding": null,
            "right": null,
            "top": null,
            "visibility": null,
            "width": null
          }
        },
        "c2232a09df4b4f31b70b80d407390387": {
          "model_module": "@jupyter-widgets/controls",
          "model_name": "DescriptionStyleModel",
          "model_module_version": "1.5.0",
          "state": {
            "_model_module": "@jupyter-widgets/controls",
            "_model_module_version": "1.5.0",
            "_model_name": "DescriptionStyleModel",
            "_view_count": null,
            "_view_module": "@jupyter-widgets/base",
            "_view_module_version": "1.2.0",
            "_view_name": "StyleView",
            "description_width": ""
          }
        },
        "99badd265e7340908859b3dfa9032569": {
          "model_module": "@jupyter-widgets/base",
          "model_name": "LayoutModel",
          "model_module_version": "1.2.0",
          "state": {
            "_model_module": "@jupyter-widgets/base",
            "_model_module_version": "1.2.0",
            "_model_name": "LayoutModel",
            "_view_count": null,
            "_view_module": "@jupyter-widgets/base",
            "_view_module_version": "1.2.0",
            "_view_name": "LayoutView",
            "align_content": null,
            "align_items": null,
            "align_self": null,
            "border": null,
            "bottom": null,
            "display": null,
            "flex": null,
            "flex_flow": null,
            "grid_area": null,
            "grid_auto_columns": null,
            "grid_auto_flow": null,
            "grid_auto_rows": null,
            "grid_column": null,
            "grid_gap": null,
            "grid_row": null,
            "grid_template_areas": null,
            "grid_template_columns": null,
            "grid_template_rows": null,
            "height": null,
            "justify_content": null,
            "justify_items": null,
            "left": null,
            "margin": null,
            "max_height": null,
            "max_width": null,
            "min_height": null,
            "min_width": null,
            "object_fit": null,
            "object_position": null,
            "order": null,
            "overflow": null,
            "overflow_x": null,
            "overflow_y": null,
            "padding": null,
            "right": null,
            "top": null,
            "visibility": null,
            "width": null
          }
        },
        "eca8f0b4401744d79aa7fe12e631f05a": {
          "model_module": "@jupyter-widgets/controls",
          "model_name": "ProgressStyleModel",
          "model_module_version": "1.5.0",
          "state": {
            "_model_module": "@jupyter-widgets/controls",
            "_model_module_version": "1.5.0",
            "_model_name": "ProgressStyleModel",
            "_view_count": null,
            "_view_module": "@jupyter-widgets/base",
            "_view_module_version": "1.2.0",
            "_view_name": "StyleView",
            "bar_color": null,
            "description_width": ""
          }
        },
        "1146959e8b894ad4817dbc344c32dad0": {
          "model_module": "@jupyter-widgets/base",
          "model_name": "LayoutModel",
          "model_module_version": "1.2.0",
          "state": {
            "_model_module": "@jupyter-widgets/base",
            "_model_module_version": "1.2.0",
            "_model_name": "LayoutModel",
            "_view_count": null,
            "_view_module": "@jupyter-widgets/base",
            "_view_module_version": "1.2.0",
            "_view_name": "LayoutView",
            "align_content": null,
            "align_items": null,
            "align_self": null,
            "border": null,
            "bottom": null,
            "display": null,
            "flex": null,
            "flex_flow": null,
            "grid_area": null,
            "grid_auto_columns": null,
            "grid_auto_flow": null,
            "grid_auto_rows": null,
            "grid_column": null,
            "grid_gap": null,
            "grid_row": null,
            "grid_template_areas": null,
            "grid_template_columns": null,
            "grid_template_rows": null,
            "height": null,
            "justify_content": null,
            "justify_items": null,
            "left": null,
            "margin": null,
            "max_height": null,
            "max_width": null,
            "min_height": null,
            "min_width": null,
            "object_fit": null,
            "object_position": null,
            "order": null,
            "overflow": null,
            "overflow_x": null,
            "overflow_y": null,
            "padding": null,
            "right": null,
            "top": null,
            "visibility": null,
            "width": null
          }
        },
        "5088011930fa437fba5cd99fd2e7223f": {
          "model_module": "@jupyter-widgets/controls",
          "model_name": "DescriptionStyleModel",
          "model_module_version": "1.5.0",
          "state": {
            "_model_module": "@jupyter-widgets/controls",
            "_model_module_version": "1.5.0",
            "_model_name": "DescriptionStyleModel",
            "_view_count": null,
            "_view_module": "@jupyter-widgets/base",
            "_view_module_version": "1.2.0",
            "_view_name": "StyleView",
            "description_width": ""
          }
        },
        "c78deebbbde14664aac4c6f9d1e5971b": {
          "model_module": "@jupyter-widgets/controls",
          "model_name": "HBoxModel",
          "model_module_version": "1.5.0",
          "state": {
            "_dom_classes": [],
            "_model_module": "@jupyter-widgets/controls",
            "_model_module_version": "1.5.0",
            "_model_name": "HBoxModel",
            "_view_count": null,
            "_view_module": "@jupyter-widgets/controls",
            "_view_module_version": "1.5.0",
            "_view_name": "HBoxView",
            "box_style": "",
            "children": [
              "IPY_MODEL_4b8a543d4d194961a68a7ebee48ce7d5",
              "IPY_MODEL_ecfd886f4bb9402dbb840abe29f4753e",
              "IPY_MODEL_1efb4789119444608ccdf6786c045a26"
            ],
            "layout": "IPY_MODEL_c59032f7cb6b42f2a98a348d850a0f83"
          }
        },
        "4b8a543d4d194961a68a7ebee48ce7d5": {
          "model_module": "@jupyter-widgets/controls",
          "model_name": "HTMLModel",
          "model_module_version": "1.5.0",
          "state": {
            "_dom_classes": [],
            "_model_module": "@jupyter-widgets/controls",
            "_model_module_version": "1.5.0",
            "_model_name": "HTMLModel",
            "_view_count": null,
            "_view_module": "@jupyter-widgets/controls",
            "_view_module_version": "1.5.0",
            "_view_name": "HTMLView",
            "description": "",
            "description_tooltip": null,
            "layout": "IPY_MODEL_2b450632793b4e9db88ba074887d3664",
            "placeholder": "​",
            "style": "IPY_MODEL_d7794d6964364f3f905a2000eb96e990",
            "value": "Generate report structure: 100%"
          }
        },
        "ecfd886f4bb9402dbb840abe29f4753e": {
          "model_module": "@jupyter-widgets/controls",
          "model_name": "FloatProgressModel",
          "model_module_version": "1.5.0",
          "state": {
            "_dom_classes": [],
            "_model_module": "@jupyter-widgets/controls",
            "_model_module_version": "1.5.0",
            "_model_name": "FloatProgressModel",
            "_view_count": null,
            "_view_module": "@jupyter-widgets/controls",
            "_view_module_version": "1.5.0",
            "_view_name": "ProgressView",
            "bar_style": "success",
            "description": "",
            "description_tooltip": null,
            "layout": "IPY_MODEL_99dd1a3847d842c7a174067845b561f9",
            "max": 1,
            "min": 0,
            "orientation": "horizontal",
            "style": "IPY_MODEL_86bb1269b1924576a8dab409b5b0b9c2",
            "value": 1
          }
        },
        "1efb4789119444608ccdf6786c045a26": {
          "model_module": "@jupyter-widgets/controls",
          "model_name": "HTMLModel",
          "model_module_version": "1.5.0",
          "state": {
            "_dom_classes": [],
            "_model_module": "@jupyter-widgets/controls",
            "_model_module_version": "1.5.0",
            "_model_name": "HTMLModel",
            "_view_count": null,
            "_view_module": "@jupyter-widgets/controls",
            "_view_module_version": "1.5.0",
            "_view_name": "HTMLView",
            "description": "",
            "description_tooltip": null,
            "layout": "IPY_MODEL_8a8dfb23129a417a98500a7aab1e07c2",
            "placeholder": "​",
            "style": "IPY_MODEL_62e2192426de4b07b508ef475174c8bb",
            "value": " 1/1 [00:04&lt;00:00,  4.33s/it]"
          }
        },
        "c59032f7cb6b42f2a98a348d850a0f83": {
          "model_module": "@jupyter-widgets/base",
          "model_name": "LayoutModel",
          "model_module_version": "1.2.0",
          "state": {
            "_model_module": "@jupyter-widgets/base",
            "_model_module_version": "1.2.0",
            "_model_name": "LayoutModel",
            "_view_count": null,
            "_view_module": "@jupyter-widgets/base",
            "_view_module_version": "1.2.0",
            "_view_name": "LayoutView",
            "align_content": null,
            "align_items": null,
            "align_self": null,
            "border": null,
            "bottom": null,
            "display": null,
            "flex": null,
            "flex_flow": null,
            "grid_area": null,
            "grid_auto_columns": null,
            "grid_auto_flow": null,
            "grid_auto_rows": null,
            "grid_column": null,
            "grid_gap": null,
            "grid_row": null,
            "grid_template_areas": null,
            "grid_template_columns": null,
            "grid_template_rows": null,
            "height": null,
            "justify_content": null,
            "justify_items": null,
            "left": null,
            "margin": null,
            "max_height": null,
            "max_width": null,
            "min_height": null,
            "min_width": null,
            "object_fit": null,
            "object_position": null,
            "order": null,
            "overflow": null,
            "overflow_x": null,
            "overflow_y": null,
            "padding": null,
            "right": null,
            "top": null,
            "visibility": null,
            "width": null
          }
        },
        "2b450632793b4e9db88ba074887d3664": {
          "model_module": "@jupyter-widgets/base",
          "model_name": "LayoutModel",
          "model_module_version": "1.2.0",
          "state": {
            "_model_module": "@jupyter-widgets/base",
            "_model_module_version": "1.2.0",
            "_model_name": "LayoutModel",
            "_view_count": null,
            "_view_module": "@jupyter-widgets/base",
            "_view_module_version": "1.2.0",
            "_view_name": "LayoutView",
            "align_content": null,
            "align_items": null,
            "align_self": null,
            "border": null,
            "bottom": null,
            "display": null,
            "flex": null,
            "flex_flow": null,
            "grid_area": null,
            "grid_auto_columns": null,
            "grid_auto_flow": null,
            "grid_auto_rows": null,
            "grid_column": null,
            "grid_gap": null,
            "grid_row": null,
            "grid_template_areas": null,
            "grid_template_columns": null,
            "grid_template_rows": null,
            "height": null,
            "justify_content": null,
            "justify_items": null,
            "left": null,
            "margin": null,
            "max_height": null,
            "max_width": null,
            "min_height": null,
            "min_width": null,
            "object_fit": null,
            "object_position": null,
            "order": null,
            "overflow": null,
            "overflow_x": null,
            "overflow_y": null,
            "padding": null,
            "right": null,
            "top": null,
            "visibility": null,
            "width": null
          }
        },
        "d7794d6964364f3f905a2000eb96e990": {
          "model_module": "@jupyter-widgets/controls",
          "model_name": "DescriptionStyleModel",
          "model_module_version": "1.5.0",
          "state": {
            "_model_module": "@jupyter-widgets/controls",
            "_model_module_version": "1.5.0",
            "_model_name": "DescriptionStyleModel",
            "_view_count": null,
            "_view_module": "@jupyter-widgets/base",
            "_view_module_version": "1.2.0",
            "_view_name": "StyleView",
            "description_width": ""
          }
        },
        "99dd1a3847d842c7a174067845b561f9": {
          "model_module": "@jupyter-widgets/base",
          "model_name": "LayoutModel",
          "model_module_version": "1.2.0",
          "state": {
            "_model_module": "@jupyter-widgets/base",
            "_model_module_version": "1.2.0",
            "_model_name": "LayoutModel",
            "_view_count": null,
            "_view_module": "@jupyter-widgets/base",
            "_view_module_version": "1.2.0",
            "_view_name": "LayoutView",
            "align_content": null,
            "align_items": null,
            "align_self": null,
            "border": null,
            "bottom": null,
            "display": null,
            "flex": null,
            "flex_flow": null,
            "grid_area": null,
            "grid_auto_columns": null,
            "grid_auto_flow": null,
            "grid_auto_rows": null,
            "grid_column": null,
            "grid_gap": null,
            "grid_row": null,
            "grid_template_areas": null,
            "grid_template_columns": null,
            "grid_template_rows": null,
            "height": null,
            "justify_content": null,
            "justify_items": null,
            "left": null,
            "margin": null,
            "max_height": null,
            "max_width": null,
            "min_height": null,
            "min_width": null,
            "object_fit": null,
            "object_position": null,
            "order": null,
            "overflow": null,
            "overflow_x": null,
            "overflow_y": null,
            "padding": null,
            "right": null,
            "top": null,
            "visibility": null,
            "width": null
          }
        },
        "86bb1269b1924576a8dab409b5b0b9c2": {
          "model_module": "@jupyter-widgets/controls",
          "model_name": "ProgressStyleModel",
          "model_module_version": "1.5.0",
          "state": {
            "_model_module": "@jupyter-widgets/controls",
            "_model_module_version": "1.5.0",
            "_model_name": "ProgressStyleModel",
            "_view_count": null,
            "_view_module": "@jupyter-widgets/base",
            "_view_module_version": "1.2.0",
            "_view_name": "StyleView",
            "bar_color": null,
            "description_width": ""
          }
        },
        "8a8dfb23129a417a98500a7aab1e07c2": {
          "model_module": "@jupyter-widgets/base",
          "model_name": "LayoutModel",
          "model_module_version": "1.2.0",
          "state": {
            "_model_module": "@jupyter-widgets/base",
            "_model_module_version": "1.2.0",
            "_model_name": "LayoutModel",
            "_view_count": null,
            "_view_module": "@jupyter-widgets/base",
            "_view_module_version": "1.2.0",
            "_view_name": "LayoutView",
            "align_content": null,
            "align_items": null,
            "align_self": null,
            "border": null,
            "bottom": null,
            "display": null,
            "flex": null,
            "flex_flow": null,
            "grid_area": null,
            "grid_auto_columns": null,
            "grid_auto_flow": null,
            "grid_auto_rows": null,
            "grid_column": null,
            "grid_gap": null,
            "grid_row": null,
            "grid_template_areas": null,
            "grid_template_columns": null,
            "grid_template_rows": null,
            "height": null,
            "justify_content": null,
            "justify_items": null,
            "left": null,
            "margin": null,
            "max_height": null,
            "max_width": null,
            "min_height": null,
            "min_width": null,
            "object_fit": null,
            "object_position": null,
            "order": null,
            "overflow": null,
            "overflow_x": null,
            "overflow_y": null,
            "padding": null,
            "right": null,
            "top": null,
            "visibility": null,
            "width": null
          }
        },
        "62e2192426de4b07b508ef475174c8bb": {
          "model_module": "@jupyter-widgets/controls",
          "model_name": "DescriptionStyleModel",
          "model_module_version": "1.5.0",
          "state": {
            "_model_module": "@jupyter-widgets/controls",
            "_model_module_version": "1.5.0",
            "_model_name": "DescriptionStyleModel",
            "_view_count": null,
            "_view_module": "@jupyter-widgets/base",
            "_view_module_version": "1.2.0",
            "_view_name": "StyleView",
            "description_width": ""
          }
        },
        "7bf71d0aaf004b28ae13ce29b2d6b71d": {
          "model_module": "@jupyter-widgets/controls",
          "model_name": "HBoxModel",
          "model_module_version": "1.5.0",
          "state": {
            "_dom_classes": [],
            "_model_module": "@jupyter-widgets/controls",
            "_model_module_version": "1.5.0",
            "_model_name": "HBoxModel",
            "_view_count": null,
            "_view_module": "@jupyter-widgets/controls",
            "_view_module_version": "1.5.0",
            "_view_name": "HBoxView",
            "box_style": "",
            "children": [
              "IPY_MODEL_474058d5721044af9798e5c2e93621ee",
              "IPY_MODEL_ae7873bcbc854eb38c0ed51e7bbc4e2a",
              "IPY_MODEL_972f2fee637048cbb68b9ded9e6eadcd"
            ],
            "layout": "IPY_MODEL_6594a398a58746fdbe55b8eff087f87f"
          }
        },
        "474058d5721044af9798e5c2e93621ee": {
          "model_module": "@jupyter-widgets/controls",
          "model_name": "HTMLModel",
          "model_module_version": "1.5.0",
          "state": {
            "_dom_classes": [],
            "_model_module": "@jupyter-widgets/controls",
            "_model_module_version": "1.5.0",
            "_model_name": "HTMLModel",
            "_view_count": null,
            "_view_module": "@jupyter-widgets/controls",
            "_view_module_version": "1.5.0",
            "_view_name": "HTMLView",
            "description": "",
            "description_tooltip": null,
            "layout": "IPY_MODEL_582147ddd00645ec95081e5719cbb70a",
            "placeholder": "​",
            "style": "IPY_MODEL_6c8f51a8393d468e92f49be934485b1d",
            "value": "Render HTML: 100%"
          }
        },
        "ae7873bcbc854eb38c0ed51e7bbc4e2a": {
          "model_module": "@jupyter-widgets/controls",
          "model_name": "FloatProgressModel",
          "model_module_version": "1.5.0",
          "state": {
            "_dom_classes": [],
            "_model_module": "@jupyter-widgets/controls",
            "_model_module_version": "1.5.0",
            "_model_name": "FloatProgressModel",
            "_view_count": null,
            "_view_module": "@jupyter-widgets/controls",
            "_view_module_version": "1.5.0",
            "_view_name": "ProgressView",
            "bar_style": "success",
            "description": "",
            "description_tooltip": null,
            "layout": "IPY_MODEL_810042d74dab41268a8db0904ec94892",
            "max": 1,
            "min": 0,
            "orientation": "horizontal",
            "style": "IPY_MODEL_8c08d97f8a1e430a95582bf6de95eae1",
            "value": 1
          }
        },
        "972f2fee637048cbb68b9ded9e6eadcd": {
          "model_module": "@jupyter-widgets/controls",
          "model_name": "HTMLModel",
          "model_module_version": "1.5.0",
          "state": {
            "_dom_classes": [],
            "_model_module": "@jupyter-widgets/controls",
            "_model_module_version": "1.5.0",
            "_model_name": "HTMLModel",
            "_view_count": null,
            "_view_module": "@jupyter-widgets/controls",
            "_view_module_version": "1.5.0",
            "_view_name": "HTMLView",
            "description": "",
            "description_tooltip": null,
            "layout": "IPY_MODEL_153f2b4487984d9eac51fcfa94b5fa4a",
            "placeholder": "​",
            "style": "IPY_MODEL_4a012b2a21e74b949c0b207d5facf716",
            "value": " 1/1 [00:01&lt;00:00,  1.16s/it]"
          }
        },
        "6594a398a58746fdbe55b8eff087f87f": {
          "model_module": "@jupyter-widgets/base",
          "model_name": "LayoutModel",
          "model_module_version": "1.2.0",
          "state": {
            "_model_module": "@jupyter-widgets/base",
            "_model_module_version": "1.2.0",
            "_model_name": "LayoutModel",
            "_view_count": null,
            "_view_module": "@jupyter-widgets/base",
            "_view_module_version": "1.2.0",
            "_view_name": "LayoutView",
            "align_content": null,
            "align_items": null,
            "align_self": null,
            "border": null,
            "bottom": null,
            "display": null,
            "flex": null,
            "flex_flow": null,
            "grid_area": null,
            "grid_auto_columns": null,
            "grid_auto_flow": null,
            "grid_auto_rows": null,
            "grid_column": null,
            "grid_gap": null,
            "grid_row": null,
            "grid_template_areas": null,
            "grid_template_columns": null,
            "grid_template_rows": null,
            "height": null,
            "justify_content": null,
            "justify_items": null,
            "left": null,
            "margin": null,
            "max_height": null,
            "max_width": null,
            "min_height": null,
            "min_width": null,
            "object_fit": null,
            "object_position": null,
            "order": null,
            "overflow": null,
            "overflow_x": null,
            "overflow_y": null,
            "padding": null,
            "right": null,
            "top": null,
            "visibility": null,
            "width": null
          }
        },
        "582147ddd00645ec95081e5719cbb70a": {
          "model_module": "@jupyter-widgets/base",
          "model_name": "LayoutModel",
          "model_module_version": "1.2.0",
          "state": {
            "_model_module": "@jupyter-widgets/base",
            "_model_module_version": "1.2.0",
            "_model_name": "LayoutModel",
            "_view_count": null,
            "_view_module": "@jupyter-widgets/base",
            "_view_module_version": "1.2.0",
            "_view_name": "LayoutView",
            "align_content": null,
            "align_items": null,
            "align_self": null,
            "border": null,
            "bottom": null,
            "display": null,
            "flex": null,
            "flex_flow": null,
            "grid_area": null,
            "grid_auto_columns": null,
            "grid_auto_flow": null,
            "grid_auto_rows": null,
            "grid_column": null,
            "grid_gap": null,
            "grid_row": null,
            "grid_template_areas": null,
            "grid_template_columns": null,
            "grid_template_rows": null,
            "height": null,
            "justify_content": null,
            "justify_items": null,
            "left": null,
            "margin": null,
            "max_height": null,
            "max_width": null,
            "min_height": null,
            "min_width": null,
            "object_fit": null,
            "object_position": null,
            "order": null,
            "overflow": null,
            "overflow_x": null,
            "overflow_y": null,
            "padding": null,
            "right": null,
            "top": null,
            "visibility": null,
            "width": null
          }
        },
        "6c8f51a8393d468e92f49be934485b1d": {
          "model_module": "@jupyter-widgets/controls",
          "model_name": "DescriptionStyleModel",
          "model_module_version": "1.5.0",
          "state": {
            "_model_module": "@jupyter-widgets/controls",
            "_model_module_version": "1.5.0",
            "_model_name": "DescriptionStyleModel",
            "_view_count": null,
            "_view_module": "@jupyter-widgets/base",
            "_view_module_version": "1.2.0",
            "_view_name": "StyleView",
            "description_width": ""
          }
        },
        "810042d74dab41268a8db0904ec94892": {
          "model_module": "@jupyter-widgets/base",
          "model_name": "LayoutModel",
          "model_module_version": "1.2.0",
          "state": {
            "_model_module": "@jupyter-widgets/base",
            "_model_module_version": "1.2.0",
            "_model_name": "LayoutModel",
            "_view_count": null,
            "_view_module": "@jupyter-widgets/base",
            "_view_module_version": "1.2.0",
            "_view_name": "LayoutView",
            "align_content": null,
            "align_items": null,
            "align_self": null,
            "border": null,
            "bottom": null,
            "display": null,
            "flex": null,
            "flex_flow": null,
            "grid_area": null,
            "grid_auto_columns": null,
            "grid_auto_flow": null,
            "grid_auto_rows": null,
            "grid_column": null,
            "grid_gap": null,
            "grid_row": null,
            "grid_template_areas": null,
            "grid_template_columns": null,
            "grid_template_rows": null,
            "height": null,
            "justify_content": null,
            "justify_items": null,
            "left": null,
            "margin": null,
            "max_height": null,
            "max_width": null,
            "min_height": null,
            "min_width": null,
            "object_fit": null,
            "object_position": null,
            "order": null,
            "overflow": null,
            "overflow_x": null,
            "overflow_y": null,
            "padding": null,
            "right": null,
            "top": null,
            "visibility": null,
            "width": null
          }
        },
        "8c08d97f8a1e430a95582bf6de95eae1": {
          "model_module": "@jupyter-widgets/controls",
          "model_name": "ProgressStyleModel",
          "model_module_version": "1.5.0",
          "state": {
            "_model_module": "@jupyter-widgets/controls",
            "_model_module_version": "1.5.0",
            "_model_name": "ProgressStyleModel",
            "_view_count": null,
            "_view_module": "@jupyter-widgets/base",
            "_view_module_version": "1.2.0",
            "_view_name": "StyleView",
            "bar_color": null,
            "description_width": ""
          }
        },
        "153f2b4487984d9eac51fcfa94b5fa4a": {
          "model_module": "@jupyter-widgets/base",
          "model_name": "LayoutModel",
          "model_module_version": "1.2.0",
          "state": {
            "_model_module": "@jupyter-widgets/base",
            "_model_module_version": "1.2.0",
            "_model_name": "LayoutModel",
            "_view_count": null,
            "_view_module": "@jupyter-widgets/base",
            "_view_module_version": "1.2.0",
            "_view_name": "LayoutView",
            "align_content": null,
            "align_items": null,
            "align_self": null,
            "border": null,
            "bottom": null,
            "display": null,
            "flex": null,
            "flex_flow": null,
            "grid_area": null,
            "grid_auto_columns": null,
            "grid_auto_flow": null,
            "grid_auto_rows": null,
            "grid_column": null,
            "grid_gap": null,
            "grid_row": null,
            "grid_template_areas": null,
            "grid_template_columns": null,
            "grid_template_rows": null,
            "height": null,
            "justify_content": null,
            "justify_items": null,
            "left": null,
            "margin": null,
            "max_height": null,
            "max_width": null,
            "min_height": null,
            "min_width": null,
            "object_fit": null,
            "object_position": null,
            "order": null,
            "overflow": null,
            "overflow_x": null,
            "overflow_y": null,
            "padding": null,
            "right": null,
            "top": null,
            "visibility": null,
            "width": null
          }
        },
        "4a012b2a21e74b949c0b207d5facf716": {
          "model_module": "@jupyter-widgets/controls",
          "model_name": "DescriptionStyleModel",
          "model_module_version": "1.5.0",
          "state": {
            "_model_module": "@jupyter-widgets/controls",
            "_model_module_version": "1.5.0",
            "_model_name": "DescriptionStyleModel",
            "_view_count": null,
            "_view_module": "@jupyter-widgets/base",
            "_view_module_version": "1.2.0",
            "_view_name": "StyleView",
            "description_width": ""
          }
        },
        "dad6799061e4454abd59254917ff9704": {
          "model_module": "@jupyter-widgets/controls",
          "model_name": "HBoxModel",
          "model_module_version": "1.5.0",
          "state": {
            "_dom_classes": [],
            "_model_module": "@jupyter-widgets/controls",
            "_model_module_version": "1.5.0",
            "_model_name": "HBoxModel",
            "_view_count": null,
            "_view_module": "@jupyter-widgets/controls",
            "_view_module_version": "1.5.0",
            "_view_name": "HBoxView",
            "box_style": "",
            "children": [
              "IPY_MODEL_83b6b162dd9e4d62b3e70481600bf0c8",
              "IPY_MODEL_dee5ad2562a54fdab54ce4994efe72fa",
              "IPY_MODEL_f2cb3ab6af3e41bc8133c261ba2eb3a6"
            ],
            "layout": "IPY_MODEL_021f7287dad34967845846abafd6faa4"
          }
        },
        "83b6b162dd9e4d62b3e70481600bf0c8": {
          "model_module": "@jupyter-widgets/controls",
          "model_name": "HTMLModel",
          "model_module_version": "1.5.0",
          "state": {
            "_dom_classes": [],
            "_model_module": "@jupyter-widgets/controls",
            "_model_module_version": "1.5.0",
            "_model_name": "HTMLModel",
            "_view_count": null,
            "_view_module": "@jupyter-widgets/controls",
            "_view_module_version": "1.5.0",
            "_view_name": "HTMLView",
            "description": "",
            "description_tooltip": null,
            "layout": "IPY_MODEL_e2bae30ea8ce49d299576f3e61bb7694",
            "placeholder": "​",
            "style": "IPY_MODEL_3cf4448b398b42c9af09c38a81353b7a",
            "value": "Export report to file: 100%"
          }
        },
        "dee5ad2562a54fdab54ce4994efe72fa": {
          "model_module": "@jupyter-widgets/controls",
          "model_name": "FloatProgressModel",
          "model_module_version": "1.5.0",
          "state": {
            "_dom_classes": [],
            "_model_module": "@jupyter-widgets/controls",
            "_model_module_version": "1.5.0",
            "_model_name": "FloatProgressModel",
            "_view_count": null,
            "_view_module": "@jupyter-widgets/controls",
            "_view_module_version": "1.5.0",
            "_view_name": "ProgressView",
            "bar_style": "success",
            "description": "",
            "description_tooltip": null,
            "layout": "IPY_MODEL_56d6e2b73b054e73a5d6db02bcb0e7a3",
            "max": 1,
            "min": 0,
            "orientation": "horizontal",
            "style": "IPY_MODEL_49f5ef767390440a9b826a2d1999db64",
            "value": 1
          }
        },
        "f2cb3ab6af3e41bc8133c261ba2eb3a6": {
          "model_module": "@jupyter-widgets/controls",
          "model_name": "HTMLModel",
          "model_module_version": "1.5.0",
          "state": {
            "_dom_classes": [],
            "_model_module": "@jupyter-widgets/controls",
            "_model_module_version": "1.5.0",
            "_model_name": "HTMLModel",
            "_view_count": null,
            "_view_module": "@jupyter-widgets/controls",
            "_view_module_version": "1.5.0",
            "_view_name": "HTMLView",
            "description": "",
            "description_tooltip": null,
            "layout": "IPY_MODEL_c36c821695d44b03a62d546e88e42d8a",
            "placeholder": "​",
            "style": "IPY_MODEL_6476995022c340fcb55b7fec708ee00f",
            "value": " 1/1 [00:00&lt;00:00, 27.48it/s]"
          }
        },
        "021f7287dad34967845846abafd6faa4": {
          "model_module": "@jupyter-widgets/base",
          "model_name": "LayoutModel",
          "model_module_version": "1.2.0",
          "state": {
            "_model_module": "@jupyter-widgets/base",
            "_model_module_version": "1.2.0",
            "_model_name": "LayoutModel",
            "_view_count": null,
            "_view_module": "@jupyter-widgets/base",
            "_view_module_version": "1.2.0",
            "_view_name": "LayoutView",
            "align_content": null,
            "align_items": null,
            "align_self": null,
            "border": null,
            "bottom": null,
            "display": null,
            "flex": null,
            "flex_flow": null,
            "grid_area": null,
            "grid_auto_columns": null,
            "grid_auto_flow": null,
            "grid_auto_rows": null,
            "grid_column": null,
            "grid_gap": null,
            "grid_row": null,
            "grid_template_areas": null,
            "grid_template_columns": null,
            "grid_template_rows": null,
            "height": null,
            "justify_content": null,
            "justify_items": null,
            "left": null,
            "margin": null,
            "max_height": null,
            "max_width": null,
            "min_height": null,
            "min_width": null,
            "object_fit": null,
            "object_position": null,
            "order": null,
            "overflow": null,
            "overflow_x": null,
            "overflow_y": null,
            "padding": null,
            "right": null,
            "top": null,
            "visibility": null,
            "width": null
          }
        },
        "e2bae30ea8ce49d299576f3e61bb7694": {
          "model_module": "@jupyter-widgets/base",
          "model_name": "LayoutModel",
          "model_module_version": "1.2.0",
          "state": {
            "_model_module": "@jupyter-widgets/base",
            "_model_module_version": "1.2.0",
            "_model_name": "LayoutModel",
            "_view_count": null,
            "_view_module": "@jupyter-widgets/base",
            "_view_module_version": "1.2.0",
            "_view_name": "LayoutView",
            "align_content": null,
            "align_items": null,
            "align_self": null,
            "border": null,
            "bottom": null,
            "display": null,
            "flex": null,
            "flex_flow": null,
            "grid_area": null,
            "grid_auto_columns": null,
            "grid_auto_flow": null,
            "grid_auto_rows": null,
            "grid_column": null,
            "grid_gap": null,
            "grid_row": null,
            "grid_template_areas": null,
            "grid_template_columns": null,
            "grid_template_rows": null,
            "height": null,
            "justify_content": null,
            "justify_items": null,
            "left": null,
            "margin": null,
            "max_height": null,
            "max_width": null,
            "min_height": null,
            "min_width": null,
            "object_fit": null,
            "object_position": null,
            "order": null,
            "overflow": null,
            "overflow_x": null,
            "overflow_y": null,
            "padding": null,
            "right": null,
            "top": null,
            "visibility": null,
            "width": null
          }
        },
        "3cf4448b398b42c9af09c38a81353b7a": {
          "model_module": "@jupyter-widgets/controls",
          "model_name": "DescriptionStyleModel",
          "model_module_version": "1.5.0",
          "state": {
            "_model_module": "@jupyter-widgets/controls",
            "_model_module_version": "1.5.0",
            "_model_name": "DescriptionStyleModel",
            "_view_count": null,
            "_view_module": "@jupyter-widgets/base",
            "_view_module_version": "1.2.0",
            "_view_name": "StyleView",
            "description_width": ""
          }
        },
        "56d6e2b73b054e73a5d6db02bcb0e7a3": {
          "model_module": "@jupyter-widgets/base",
          "model_name": "LayoutModel",
          "model_module_version": "1.2.0",
          "state": {
            "_model_module": "@jupyter-widgets/base",
            "_model_module_version": "1.2.0",
            "_model_name": "LayoutModel",
            "_view_count": null,
            "_view_module": "@jupyter-widgets/base",
            "_view_module_version": "1.2.0",
            "_view_name": "LayoutView",
            "align_content": null,
            "align_items": null,
            "align_self": null,
            "border": null,
            "bottom": null,
            "display": null,
            "flex": null,
            "flex_flow": null,
            "grid_area": null,
            "grid_auto_columns": null,
            "grid_auto_flow": null,
            "grid_auto_rows": null,
            "grid_column": null,
            "grid_gap": null,
            "grid_row": null,
            "grid_template_areas": null,
            "grid_template_columns": null,
            "grid_template_rows": null,
            "height": null,
            "justify_content": null,
            "justify_items": null,
            "left": null,
            "margin": null,
            "max_height": null,
            "max_width": null,
            "min_height": null,
            "min_width": null,
            "object_fit": null,
            "object_position": null,
            "order": null,
            "overflow": null,
            "overflow_x": null,
            "overflow_y": null,
            "padding": null,
            "right": null,
            "top": null,
            "visibility": null,
            "width": null
          }
        },
        "49f5ef767390440a9b826a2d1999db64": {
          "model_module": "@jupyter-widgets/controls",
          "model_name": "ProgressStyleModel",
          "model_module_version": "1.5.0",
          "state": {
            "_model_module": "@jupyter-widgets/controls",
            "_model_module_version": "1.5.0",
            "_model_name": "ProgressStyleModel",
            "_view_count": null,
            "_view_module": "@jupyter-widgets/base",
            "_view_module_version": "1.2.0",
            "_view_name": "StyleView",
            "bar_color": null,
            "description_width": ""
          }
        },
        "c36c821695d44b03a62d546e88e42d8a": {
          "model_module": "@jupyter-widgets/base",
          "model_name": "LayoutModel",
          "model_module_version": "1.2.0",
          "state": {
            "_model_module": "@jupyter-widgets/base",
            "_model_module_version": "1.2.0",
            "_model_name": "LayoutModel",
            "_view_count": null,
            "_view_module": "@jupyter-widgets/base",
            "_view_module_version": "1.2.0",
            "_view_name": "LayoutView",
            "align_content": null,
            "align_items": null,
            "align_self": null,
            "border": null,
            "bottom": null,
            "display": null,
            "flex": null,
            "flex_flow": null,
            "grid_area": null,
            "grid_auto_columns": null,
            "grid_auto_flow": null,
            "grid_auto_rows": null,
            "grid_column": null,
            "grid_gap": null,
            "grid_row": null,
            "grid_template_areas": null,
            "grid_template_columns": null,
            "grid_template_rows": null,
            "height": null,
            "justify_content": null,
            "justify_items": null,
            "left": null,
            "margin": null,
            "max_height": null,
            "max_width": null,
            "min_height": null,
            "min_width": null,
            "object_fit": null,
            "object_position": null,
            "order": null,
            "overflow": null,
            "overflow_x": null,
            "overflow_y": null,
            "padding": null,
            "right": null,
            "top": null,
            "visibility": null,
            "width": null
          }
        },
        "6476995022c340fcb55b7fec708ee00f": {
          "model_module": "@jupyter-widgets/controls",
          "model_name": "DescriptionStyleModel",
          "model_module_version": "1.5.0",
          "state": {
            "_model_module": "@jupyter-widgets/controls",
            "_model_module_version": "1.5.0",
            "_model_name": "DescriptionStyleModel",
            "_view_count": null,
            "_view_module": "@jupyter-widgets/base",
            "_view_module_version": "1.2.0",
            "_view_name": "StyleView",
            "description_width": ""
          }
        }
      }
    }
  },
  "cells": [
    {
      "cell_type": "markdown",
      "source": [
        "# Попередня обробка даних\n"
      ],
      "metadata": {
        "id": "7boK48jonQhC"
      }
    },
    {
      "cell_type": "code",
      "execution_count": null,
      "metadata": {
        "id": "657-HMoNm_tx",
        "colab": {
          "base_uri": "https://localhost:8080/"
        },
        "outputId": "671a4203-2784-4892-f591-26e5d9e83689"
      },
      "outputs": [
        {
          "output_type": "stream",
          "name": "stdout",
          "text": [
            "         index       Entity Code  Year Schizophrenia (%) Bipolar disorder (%)  \\\n",
            "0            0  Afghanistan  AFG  1990           0.16056             0.697779   \n",
            "1            1  Afghanistan  AFG  1991          0.160312             0.697961   \n",
            "2            2  Afghanistan  AFG  1992          0.160135             0.698107   \n",
            "3            3  Afghanistan  AFG  1993          0.160037             0.698257   \n",
            "4            4  Afghanistan  AFG  1994          0.160022             0.698469   \n",
            "...        ...          ...  ...   ...               ...                  ...   \n",
            "108548  108548     Zimbabwe  ZWE  2013      303564.60359                  NaN   \n",
            "108549  108549     Zimbabwe  ZWE  2014     311665.769283                  NaN   \n",
            "108550  108550     Zimbabwe  ZWE  2015     320638.507158                  NaN   \n",
            "108551  108551     Zimbabwe  ZWE  2016     330437.353798                  NaN   \n",
            "108552  108552     Zimbabwe  ZWE  2017     340583.157405                  NaN   \n",
            "\n",
            "       Eating disorders (%)  Anxiety disorders (%)  Drug use disorders (%)  \\\n",
            "0                  0.101855               4.828830                1.677082   \n",
            "1                  0.099313               4.829740                1.684746   \n",
            "2                  0.096692               4.831108                1.694334   \n",
            "3                  0.094336               4.830864                1.705320   \n",
            "4                  0.092439               4.829423                1.716069   \n",
            "...                     ...                    ...                     ...   \n",
            "108548                  NaN                    NaN                     NaN   \n",
            "108549                  NaN                    NaN                     NaN   \n",
            "108550                  NaN                    NaN                     NaN   \n",
            "108551                  NaN                    NaN                     NaN   \n",
            "108552                  NaN                    NaN                     NaN   \n",
            "\n",
            "        Depression (%)  Alcohol use disorders (%)  \n",
            "0             4.071831                   0.672404  \n",
            "1             4.079531                   0.671768  \n",
            "2             4.088358                   0.670644  \n",
            "3             4.096190                   0.669738  \n",
            "4             4.099582                   0.669260  \n",
            "...                ...                        ...  \n",
            "108548             NaN                        NaN  \n",
            "108549             NaN                        NaN  \n",
            "108550             NaN                        NaN  \n",
            "108551             NaN                        NaN  \n",
            "108552             NaN                        NaN  \n",
            "\n",
            "[108553 rows x 11 columns]\n"
          ]
        },
        {
          "output_type": "stream",
          "name": "stderr",
          "text": [
            "<ipython-input-4-43b4caac19bd>:2: DtypeWarning: Columns (5,6) have mixed types. Specify dtype option on import or set low_memory=False.\n",
            "  df = pd.read_csv('/content/drive/MyDrive/Colab Notebooks/diploma/data.csv')\n"
          ]
        }
      ],
      "source": [
        "import pandas as pd\n",
        "df = pd.read_csv('/content/drive/MyDrive/Colab Notebooks/diploma/data.csv')\n",
        "print(df)"
      ]
    },
    {
      "cell_type": "code",
      "source": [
        "from ydata_profiling import ProfileReport\n",
        "\n",
        "# Produce and save the profiling report\n",
        "profile = ProfileReport(df,title=\"Report\")\n",
        "profile.to_file(\"report_all.html\")\n",
        "from google.colab import files\n",
        "files.download(\"report_all.html\")"
      ],
      "metadata": {
        "colab": {
          "base_uri": "https://localhost:8080/",
          "height": 145,
          "referenced_widgets": [
            "2a2e55024e5548f791acebbcbfabeed2",
            "5e2b1c6bf7e341c3880f6f49601bf88b",
            "f4f3548fd5054a37900c4831364293e1",
            "a5d06391e0ba4ce79d251eb9fac3d323",
            "93769207d7d942bc897a231d06fa7772",
            "d3036f9a9b5c4487bca51f3dcf4a7779",
            "c2232a09df4b4f31b70b80d407390387",
            "99badd265e7340908859b3dfa9032569",
            "eca8f0b4401744d79aa7fe12e631f05a",
            "1146959e8b894ad4817dbc344c32dad0",
            "5088011930fa437fba5cd99fd2e7223f",
            "c78deebbbde14664aac4c6f9d1e5971b",
            "4b8a543d4d194961a68a7ebee48ce7d5",
            "ecfd886f4bb9402dbb840abe29f4753e",
            "1efb4789119444608ccdf6786c045a26",
            "c59032f7cb6b42f2a98a348d850a0f83",
            "2b450632793b4e9db88ba074887d3664",
            "d7794d6964364f3f905a2000eb96e990",
            "99dd1a3847d842c7a174067845b561f9",
            "86bb1269b1924576a8dab409b5b0b9c2",
            "8a8dfb23129a417a98500a7aab1e07c2",
            "62e2192426de4b07b508ef475174c8bb",
            "7bf71d0aaf004b28ae13ce29b2d6b71d",
            "474058d5721044af9798e5c2e93621ee",
            "ae7873bcbc854eb38c0ed51e7bbc4e2a",
            "972f2fee637048cbb68b9ded9e6eadcd",
            "6594a398a58746fdbe55b8eff087f87f",
            "582147ddd00645ec95081e5719cbb70a",
            "6c8f51a8393d468e92f49be934485b1d",
            "810042d74dab41268a8db0904ec94892",
            "8c08d97f8a1e430a95582bf6de95eae1",
            "153f2b4487984d9eac51fcfa94b5fa4a",
            "4a012b2a21e74b949c0b207d5facf716",
            "dad6799061e4454abd59254917ff9704",
            "83b6b162dd9e4d62b3e70481600bf0c8",
            "dee5ad2562a54fdab54ce4994efe72fa",
            "f2cb3ab6af3e41bc8133c261ba2eb3a6",
            "021f7287dad34967845846abafd6faa4",
            "e2bae30ea8ce49d299576f3e61bb7694",
            "3cf4448b398b42c9af09c38a81353b7a",
            "56d6e2b73b054e73a5d6db02bcb0e7a3",
            "49f5ef767390440a9b826a2d1999db64",
            "c36c821695d44b03a62d546e88e42d8a",
            "6476995022c340fcb55b7fec708ee00f"
          ]
        },
        "id": "8qz5YOnZqCMq",
        "outputId": "844d7cb0-7c39-4ca7-c0d2-3b2380703e10"
      },
      "execution_count": null,
      "outputs": [
        {
          "output_type": "display_data",
          "data": {
            "text/plain": [
              "Summarize dataset:   0%|          | 0/5 [00:00<?, ?it/s]"
            ],
            "application/vnd.jupyter.widget-view+json": {
              "version_major": 2,
              "version_minor": 0,
              "model_id": "2a2e55024e5548f791acebbcbfabeed2"
            }
          },
          "metadata": {}
        },
        {
          "output_type": "display_data",
          "data": {
            "text/plain": [
              "Generate report structure:   0%|          | 0/1 [00:00<?, ?it/s]"
            ],
            "application/vnd.jupyter.widget-view+json": {
              "version_major": 2,
              "version_minor": 0,
              "model_id": "c78deebbbde14664aac4c6f9d1e5971b"
            }
          },
          "metadata": {}
        },
        {
          "output_type": "display_data",
          "data": {
            "text/plain": [
              "Render HTML:   0%|          | 0/1 [00:00<?, ?it/s]"
            ],
            "application/vnd.jupyter.widget-view+json": {
              "version_major": 2,
              "version_minor": 0,
              "model_id": "7bf71d0aaf004b28ae13ce29b2d6b71d"
            }
          },
          "metadata": {}
        },
        {
          "output_type": "display_data",
          "data": {
            "text/plain": [
              "Export report to file:   0%|          | 0/1 [00:00<?, ?it/s]"
            ],
            "application/vnd.jupyter.widget-view+json": {
              "version_major": 2,
              "version_minor": 0,
              "model_id": "dad6799061e4454abd59254917ff9704"
            }
          },
          "metadata": {}
        },
        {
          "output_type": "display_data",
          "data": {
            "text/plain": [
              "<IPython.core.display.Javascript object>"
            ],
            "application/javascript": [
              "\n",
              "    async function download(id, filename, size) {\n",
              "      if (!google.colab.kernel.accessAllowed) {\n",
              "        return;\n",
              "      }\n",
              "      const div = document.createElement('div');\n",
              "      const label = document.createElement('label');\n",
              "      label.textContent = `Downloading \"${filename}\": `;\n",
              "      div.appendChild(label);\n",
              "      const progress = document.createElement('progress');\n",
              "      progress.max = size;\n",
              "      div.appendChild(progress);\n",
              "      document.body.appendChild(div);\n",
              "\n",
              "      const buffers = [];\n",
              "      let downloaded = 0;\n",
              "\n",
              "      const channel = await google.colab.kernel.comms.open(id);\n",
              "      // Send a message to notify the kernel that we're ready.\n",
              "      channel.send({})\n",
              "\n",
              "      for await (const message of channel.messages) {\n",
              "        // Send a message to notify the kernel that we're ready.\n",
              "        channel.send({})\n",
              "        if (message.buffers) {\n",
              "          for (const buffer of message.buffers) {\n",
              "            buffers.push(buffer);\n",
              "            downloaded += buffer.byteLength;\n",
              "            progress.value = downloaded;\n",
              "          }\n",
              "        }\n",
              "      }\n",
              "      const blob = new Blob(buffers, {type: 'application/binary'});\n",
              "      const a = document.createElement('a');\n",
              "      a.href = window.URL.createObjectURL(blob);\n",
              "      a.download = filename;\n",
              "      div.appendChild(a);\n",
              "      a.click();\n",
              "      div.remove();\n",
              "    }\n",
              "  "
            ]
          },
          "metadata": {}
        },
        {
          "output_type": "display_data",
          "data": {
            "text/plain": [
              "<IPython.core.display.Javascript object>"
            ],
            "application/javascript": [
              "download(\"download_dc9c5ad6-44ca-4474-8a10-06e07392cb90\", \"report_all.html\", 2148612)"
            ]
          },
          "metadata": {}
        }
      ]
    },
    {
      "cell_type": "code",
      "source": [
        "missing = df.isna().sum()\n"
      ],
      "metadata": {
        "id": "odZu_m6UydCe"
      },
      "execution_count": null,
      "outputs": []
    },
    {
      "cell_type": "markdown",
      "source": [
        "1-6468 Mental Health Disorder Shares in %.\n",
        "\n",
        "6469-54276  Mental Health Disorder Share per Sex in %.\n",
        "\n",
        "54277-102084 Suicide and Depression per 100k inhabitants\n",
        "\n",
        "102084-108553 Prevalence - Depressive disorders per 100k inhabitants"
      ],
      "metadata": {
        "id": "1vRdv0a7u_65"
      }
    },
    {
      "cell_type": "code",
      "source": [
        "table1 = df.iloc[:6468]\n",
        "if df.Entity == 'England':\n",
        "  df.Code == 'GBR'\n",
        "\n",
        "table2 = df.iloc[6469:54276]\n",
        "table2.columns = df.iloc[6468]\n",
        "table2 = table2.iloc[:,:7].drop(columns = 6468)\n",
        "\n",
        "table3 = df.iloc[54277:102084]\n",
        "table3.columns = df.iloc[54276]\n",
        "table3 = table3.iloc[:,:7].drop(columns = 54276)\n",
        "\n",
        "table4 = df.iloc[102085:]\n",
        "table4.columns = df.iloc[102084]\n",
        "table4 = table4.iloc[:,:5].drop(columns = 102084)"
      ],
      "metadata": {
        "id": "z0H07vazu4SH",
        "colab": {
          "base_uri": "https://localhost:8080/",
          "height": 235
        },
        "outputId": "fa6e8882-750f-4583-fa3a-2d95394e6663"
      },
      "execution_count": null,
      "outputs": [
        {
          "output_type": "error",
          "ename": "NameError",
          "evalue": "ignored",
          "traceback": [
            "\u001b[0;31m---------------------------------------------------------------------------\u001b[0m",
            "\u001b[0;31mNameError\u001b[0m                                 Traceback (most recent call last)",
            "\u001b[0;32m<ipython-input-3-489048c869d8>\u001b[0m in \u001b[0;36m<cell line: 1>\u001b[0;34m()\u001b[0m\n\u001b[0;32m----> 1\u001b[0;31m \u001b[0mtable1\u001b[0m \u001b[0;34m=\u001b[0m \u001b[0mdf\u001b[0m\u001b[0;34m.\u001b[0m\u001b[0miloc\u001b[0m\u001b[0;34m[\u001b[0m\u001b[0;34m:\u001b[0m\u001b[0;36m6468\u001b[0m\u001b[0;34m]\u001b[0m\u001b[0;34m\u001b[0m\u001b[0;34m\u001b[0m\u001b[0m\n\u001b[0m\u001b[1;32m      2\u001b[0m \u001b[0;32mif\u001b[0m \u001b[0mdf\u001b[0m\u001b[0;34m.\u001b[0m\u001b[0mEntity\u001b[0m \u001b[0;34m==\u001b[0m \u001b[0;34m'England'\u001b[0m\u001b[0;34m:\u001b[0m\u001b[0;34m\u001b[0m\u001b[0;34m\u001b[0m\u001b[0m\n\u001b[1;32m      3\u001b[0m   \u001b[0mdf\u001b[0m\u001b[0;34m.\u001b[0m\u001b[0mCode\u001b[0m \u001b[0;34m==\u001b[0m \u001b[0;34m'GBR'\u001b[0m\u001b[0;34m\u001b[0m\u001b[0;34m\u001b[0m\u001b[0m\n\u001b[1;32m      4\u001b[0m \u001b[0;34m\u001b[0m\u001b[0m\n\u001b[1;32m      5\u001b[0m \u001b[0mtable2\u001b[0m \u001b[0;34m=\u001b[0m \u001b[0mdf\u001b[0m\u001b[0;34m.\u001b[0m\u001b[0miloc\u001b[0m\u001b[0;34m[\u001b[0m\u001b[0;36m6469\u001b[0m\u001b[0;34m:\u001b[0m\u001b[0;36m54276\u001b[0m\u001b[0;34m]\u001b[0m\u001b[0;34m\u001b[0m\u001b[0;34m\u001b[0m\u001b[0m\n",
            "\u001b[0;31mNameError\u001b[0m: name 'df' is not defined"
          ]
        }
      ]
    },
    {
      "cell_type": "markdown",
      "source": [
        "Зводимо назви стовпчиків до однакового виду"
      ],
      "metadata": {
        "id": "e9VxUMfZ3XdA"
      }
    },
    {
      "cell_type": "code",
      "source": [
        "table1.columns = (table1.columns\n",
        "                      .str.lower()\n",
        "                      .str.replace('%','')\n",
        "                      .str.replace('(', '')\n",
        "                      .str.replace(')', '')\n",
        "                      .str.strip()\n",
        "                      .str.replace(' ','_'))\n",
        "table1.columns\n",
        "print(table1.describe)"
      ],
      "metadata": {
        "colab": {
          "base_uri": "https://localhost:8080/"
        },
        "id": "t95LBVklx7GV",
        "outputId": "26b26731-be14-4ee2-bae2-6f19c85e7f27"
      },
      "execution_count": null,
      "outputs": [
        {
          "output_type": "stream",
          "name": "stdout",
          "text": [
            "<bound method NDFrame.describe of       index       entity code  year schizophrenia bipolar_disorder  \\\n",
            "0         0  Afghanistan  AFG  1990       0.16056         0.697779   \n",
            "1         1  Afghanistan  AFG  1991      0.160312         0.697961   \n",
            "2         2  Afghanistan  AFG  1992      0.160135         0.698107   \n",
            "3         3  Afghanistan  AFG  1993      0.160037         0.698257   \n",
            "4         4  Afghanistan  AFG  1994      0.160022         0.698469   \n",
            "...     ...          ...  ...   ...           ...              ...   \n",
            "6463   6463     Zimbabwe  ZWE  2013       0.15567         0.607993   \n",
            "6464   6464     Zimbabwe  ZWE  2014      0.155993          0.60861   \n",
            "6465   6465     Zimbabwe  ZWE  2015      0.156465         0.609363   \n",
            "6466   6466     Zimbabwe  ZWE  2016      0.157111         0.610234   \n",
            "6467   6467     Zimbabwe  ZWE  2017      0.157963         0.611242   \n",
            "\n",
            "     eating_disorders  anxiety_disorders  drug_use_disorders  depression  \\\n",
            "0            0.101855           4.828830            1.677082    4.071831   \n",
            "1            0.099313           4.829740            1.684746    4.079531   \n",
            "2            0.096692           4.831108            1.694334    4.088358   \n",
            "3            0.094336           4.830864            1.705320    4.096190   \n",
            "4            0.092439           4.829423            1.716069    4.099582   \n",
            "...               ...                ...                 ...         ...   \n",
            "6463         0.117248           3.090168            0.766280    3.128192   \n",
            "6464         0.118073           3.093964            0.768914    3.140290   \n",
            "6465          0.11947           3.098687            0.771802    3.155710   \n",
            "6466         0.121456           3.104294            0.772275    3.174134   \n",
            "6467         0.124443           3.110926            0.772648    3.192789   \n",
            "\n",
            "      alcohol_use_disorders  \n",
            "0                  0.672404  \n",
            "1                  0.671768  \n",
            "2                  0.670644  \n",
            "3                  0.669738  \n",
            "4                  0.669260  \n",
            "...                     ...  \n",
            "6463               1.515641  \n",
            "6464               1.515470  \n",
            "6465               1.514751  \n",
            "6466               1.513269  \n",
            "6467               1.510943  \n",
            "\n",
            "[6468 rows x 11 columns]>\n"
          ]
        },
        {
          "output_type": "stream",
          "name": "stderr",
          "text": [
            "<ipython-input-5-ad6a4212dfd4>:4: FutureWarning: The default value of regex will change from True to False in a future version. In addition, single character regular expressions will *not* be treated as literal strings when regex=True.\n",
            "  .str.replace('(', '')\n",
            "<ipython-input-5-ad6a4212dfd4>:5: FutureWarning: The default value of regex will change from True to False in a future version. In addition, single character regular expressions will *not* be treated as literal strings when regex=True.\n",
            "  .str.replace(')', '')\n"
          ]
        }
      ]
    },
    {
      "cell_type": "code",
      "source": [
        "table2.columns = (table2.columns\n",
        "                      .str.lower()\n",
        "                      .str.replace('%','')\n",
        "                      .str.replace('(', '')\n",
        "                      .str.replace(')', '')\n",
        "                      .str.strip()\n",
        "                      .str.replace(' ','_'))\n",
        "table2.columns\n",
        "print(table2.describe)"
      ],
      "metadata": {
        "colab": {
          "base_uri": "https://localhost:8080/"
        },
        "id": "K_MviHAPzdvJ",
        "outputId": "4b9efbd8-9330-41e3-ffda-654d6d18fb3f"
      },
      "execution_count": null,
      "outputs": [
        {
          "output_type": "stream",
          "name": "stdout",
          "text": [
            "<bound method NDFrame.describe of 6468        entity code  year prevalence_in_males prevalence_in_females  \\\n",
            "6469   Afghanistan  AFG  1800                 NaN                   NaN   \n",
            "6470   Afghanistan  AFG  1801                 NaN                   NaN   \n",
            "6471   Afghanistan  AFG  1802                 NaN                   NaN   \n",
            "6472   Afghanistan  AFG  1803                 NaN                   NaN   \n",
            "6473   Afghanistan  AFG  1804                 NaN                   NaN   \n",
            "...            ...  ...   ...                 ...                   ...   \n",
            "54271     Zimbabwe  ZWE  2015            2.789152              3.455323   \n",
            "54272     Zimbabwe  ZWE  2016            2.799308              3.479071   \n",
            "54273     Zimbabwe  ZWE  2017            2.812022               3.50086   \n",
            "54274     Zimbabwe  ZWE  2018                 NaN                   NaN   \n",
            "54275     Zimbabwe  ZWE  2019                 NaN                   NaN   \n",
            "\n",
            "6468        population  \n",
            "6469           3280000  \n",
            "6470           3280000  \n",
            "6471           3280000  \n",
            "6472           3280000  \n",
            "6473           3280000  \n",
            "...                ...  \n",
            "54271  13815000.000000  \n",
            "54272  14030000.000000  \n",
            "54273  14237000.000000  \n",
            "54274  14439000.000000  \n",
            "54275  14645000.000000  \n",
            "\n",
            "[47807 rows x 6 columns]>\n"
          ]
        },
        {
          "output_type": "stream",
          "name": "stderr",
          "text": [
            "<ipython-input-6-1ba5ba608411>:4: FutureWarning: The default value of regex will change from True to False in a future version. In addition, single character regular expressions will *not* be treated as literal strings when regex=True.\n",
            "  .str.replace('(', '')\n",
            "<ipython-input-6-1ba5ba608411>:5: FutureWarning: The default value of regex will change from True to False in a future version. In addition, single character regular expressions will *not* be treated as literal strings when regex=True.\n",
            "  .str.replace(')', '')\n"
          ]
        }
      ]
    },
    {
      "cell_type": "code",
      "source": [
        "table3.columns = (table3.columns\n",
        "                      .str.lower()\n",
        "                      .str.replace('%','')\n",
        "                      .str.replace('(', '')\n",
        "                      .str.replace(')', '')\n",
        "                      .str.strip()\n",
        "                      .str.replace(' ','_'))\n",
        "table3.columns\n",
        "print(table3.describe)"
      ],
      "metadata": {
        "colab": {
          "base_uri": "https://localhost:8080/"
        },
        "id": "nuXn_Xfv0BoI",
        "outputId": "10981de5-35ef-42da-d530-e8c1d5032f50"
      },
      "execution_count": null,
      "outputs": [
        {
          "output_type": "stream",
          "name": "stdout",
          "text": [
            "<bound method NDFrame.describe of 54276        entity code  year suicide_rate_deaths_per_100,000_individuals  \\\n",
            "54277   Afghanistan  AFG  1800                                         NaN   \n",
            "54278   Afghanistan  AFG  1801                                         NaN   \n",
            "54279   Afghanistan  AFG  1802                                         NaN   \n",
            "54280   Afghanistan  AFG  1803                                         NaN   \n",
            "54281   Afghanistan  AFG  1804                                         NaN   \n",
            "...             ...  ...   ...                                         ...   \n",
            "102079     Zimbabwe  ZWE  2015                                   27.197061   \n",
            "102080     Zimbabwe  ZWE  2016                                   26.839591   \n",
            "102081     Zimbabwe  ZWE  2017                                   26.391769   \n",
            "102082     Zimbabwe  ZWE  2018                                         NaN   \n",
            "102083     Zimbabwe  ZWE  2019                                         NaN   \n",
            "\n",
            "54276  depressive_disorder_rates_number_suffering_per_100,000  population  \n",
            "54277                                                 NaN         3280000  \n",
            "54278                                                 NaN         3280000  \n",
            "54279                                                 NaN         3280000  \n",
            "54280                                                 NaN         3280000  \n",
            "54281                                                 NaN         3280000  \n",
            "...                                                   ...             ...  \n",
            "102079                                        3068.250731      13815000.0  \n",
            "102080                                        3081.782858      14030000.0  \n",
            "102081                                        3094.795065      14237000.0  \n",
            "102082                                                NaN      14439000.0  \n",
            "102083                                                NaN      14645000.0  \n",
            "\n",
            "[47807 rows x 6 columns]>\n"
          ]
        },
        {
          "output_type": "stream",
          "name": "stderr",
          "text": [
            "<ipython-input-7-bc52b0de9664>:4: FutureWarning: The default value of regex will change from True to False in a future version. In addition, single character regular expressions will *not* be treated as literal strings when regex=True.\n",
            "  .str.replace('(', '')\n",
            "<ipython-input-7-bc52b0de9664>:5: FutureWarning: The default value of regex will change from True to False in a future version. In addition, single character regular expressions will *not* be treated as literal strings when regex=True.\n",
            "  .str.replace(')', '')\n"
          ]
        }
      ]
    },
    {
      "cell_type": "code",
      "source": [
        "table4.columns = (table4.columns\n",
        "                      .str.lower()\n",
        "                      .str.replace('%','')\n",
        "                      .str.replace('(', '')\n",
        "                      .str.replace(')', '')\n",
        "                      .str.strip()\n",
        "                      .str.replace(' ','_'))\n",
        "table4.columns\n",
        "print(table4.describe)"
      ],
      "metadata": {
        "colab": {
          "base_uri": "https://localhost:8080/"
        },
        "id": "vMNMuocx1Jx2",
        "outputId": "6c285b1c-a442-482f-c167-ea24b1b0f106"
      },
      "execution_count": null,
      "outputs": [
        {
          "output_type": "stream",
          "name": "stdout",
          "text": [
            "<bound method NDFrame.describe of 102084       entity code  year  \\\n",
            "102085  Afghanistan  AFG  1990   \n",
            "102086  Afghanistan  AFG  1991   \n",
            "102087  Afghanistan  AFG  1992   \n",
            "102088  Afghanistan  AFG  1993   \n",
            "102089  Afghanistan  AFG  1994   \n",
            "...             ...  ...   ...   \n",
            "108548     Zimbabwe  ZWE  2013   \n",
            "108549     Zimbabwe  ZWE  2014   \n",
            "108550     Zimbabwe  ZWE  2015   \n",
            "108551     Zimbabwe  ZWE  2016   \n",
            "108552     Zimbabwe  ZWE  2017   \n",
            "\n",
            "102084 prevalence_-_depressive_disorders_-_sex:_both_-_age:_all_ages_number_people_suffering_from_depression  \n",
            "102085                                       318435.81367                                                     \n",
            "102086                                      329044.773956                                                     \n",
            "102087                                      382544.572895                                                     \n",
            "102088                                      440381.507393                                                     \n",
            "102089                                      456916.645489                                                     \n",
            "...                                                   ...                                                     \n",
            "108548                                       303564.60359                                                     \n",
            "108549                                      311665.769283                                                     \n",
            "108550                                      320638.507158                                                     \n",
            "108551                                      330437.353798                                                     \n",
            "108552                                      340583.157405                                                     \n",
            "\n",
            "[6468 rows x 4 columns]>\n"
          ]
        },
        {
          "output_type": "stream",
          "name": "stderr",
          "text": [
            "<ipython-input-8-dd9e908d51d4>:4: FutureWarning: The default value of regex will change from True to False in a future version. In addition, single character regular expressions will *not* be treated as literal strings when regex=True.\n",
            "  .str.replace('(', '')\n",
            "<ipython-input-8-dd9e908d51d4>:5: FutureWarning: The default value of regex will change from True to False in a future version. In addition, single character regular expressions will *not* be treated as literal strings when regex=True.\n",
            "  .str.replace(')', '')\n"
          ]
        }
      ]
    },
    {
      "cell_type": "code",
      "source": [
        "!pip install geopandas"
      ],
      "metadata": {
        "colab": {
          "base_uri": "https://localhost:8080/"
        },
        "id": "ltsht7IEoYG4",
        "outputId": "252e0ac6-27c4-4d3a-e8f5-1b468efdc4c6"
      },
      "execution_count": null,
      "outputs": [
        {
          "output_type": "stream",
          "name": "stdout",
          "text": [
            "Looking in indexes: https://pypi.org/simple, https://us-python.pkg.dev/colab-wheels/public/simple/\n",
            "Collecting geopandas\n",
            "  Downloading geopandas-0.12.2-py3-none-any.whl (1.1 MB)\n",
            "\u001b[2K     \u001b[90m━━━━━━━━━━━━━━━━━━━━━━━━━━━━━━━━━━━━━━━━\u001b[0m \u001b[32m1.1/1.1 MB\u001b[0m \u001b[31m8.7 MB/s\u001b[0m eta \u001b[36m0:00:00\u001b[0m\n",
            "\u001b[?25hRequirement already satisfied: shapely>=1.7 in /usr/local/lib/python3.10/dist-packages (from geopandas) (2.0.1)\n",
            "Collecting fiona>=1.8\n",
            "  Downloading Fiona-1.9.3-cp310-cp310-manylinux_2_17_x86_64.manylinux2014_x86_64.whl (16.0 MB)\n",
            "\u001b[2K     \u001b[90m━━━━━━━━━━━━━━━━━━━━━━━━━━━━━━━━━━━━━━━━\u001b[0m \u001b[32m16.0/16.0 MB\u001b[0m \u001b[31m62.5 MB/s\u001b[0m eta \u001b[36m0:00:00\u001b[0m\n",
            "\u001b[?25hRequirement already satisfied: packaging in /usr/local/lib/python3.10/dist-packages (from geopandas) (23.1)\n",
            "Collecting pyproj>=2.6.1.post1\n",
            "  Downloading pyproj-3.5.0-cp310-cp310-manylinux_2_17_x86_64.manylinux2014_x86_64.whl (7.7 MB)\n",
            "\u001b[2K     \u001b[90m━━━━━━━━━━━━━━━━━━━━━━━━━━━━━━━━━━━━━━━━\u001b[0m \u001b[32m7.7/7.7 MB\u001b[0m \u001b[31m68.3 MB/s\u001b[0m eta \u001b[36m0:00:00\u001b[0m\n",
            "\u001b[?25hRequirement already satisfied: pandas>=1.0.0 in /usr/local/lib/python3.10/dist-packages (from geopandas) (1.5.3)\n",
            "Requirement already satisfied: attrs>=19.2.0 in /usr/local/lib/python3.10/dist-packages (from fiona>=1.8->geopandas) (23.1.0)\n",
            "Collecting cligj>=0.5\n",
            "  Downloading cligj-0.7.2-py3-none-any.whl (7.1 kB)\n",
            "Collecting click-plugins>=1.0\n",
            "  Downloading click_plugins-1.1.1-py2.py3-none-any.whl (7.5 kB)\n",
            "Requirement already satisfied: certifi in /usr/local/lib/python3.10/dist-packages (from fiona>=1.8->geopandas) (2022.12.7)\n",
            "Requirement already satisfied: click~=8.0 in /usr/local/lib/python3.10/dist-packages (from fiona>=1.8->geopandas) (8.1.3)\n",
            "Collecting munch>=2.3.2\n",
            "  Downloading munch-2.5.0-py2.py3-none-any.whl (10 kB)\n",
            "Requirement already satisfied: pytz>=2020.1 in /usr/local/lib/python3.10/dist-packages (from pandas>=1.0.0->geopandas) (2022.7.1)\n",
            "Requirement already satisfied: numpy>=1.21.0 in /usr/local/lib/python3.10/dist-packages (from pandas>=1.0.0->geopandas) (1.22.4)\n",
            "Requirement already satisfied: python-dateutil>=2.8.1 in /usr/local/lib/python3.10/dist-packages (from pandas>=1.0.0->geopandas) (2.8.2)\n",
            "Requirement already satisfied: six in /usr/local/lib/python3.10/dist-packages (from munch>=2.3.2->fiona>=1.8->geopandas) (1.16.0)\n",
            "Installing collected packages: pyproj, munch, cligj, click-plugins, fiona, geopandas\n",
            "Successfully installed click-plugins-1.1.1 cligj-0.7.2 fiona-1.9.3 geopandas-0.12.2 munch-2.5.0 pyproj-3.5.0\n"
          ]
        }
      ]
    },
    {
      "cell_type": "code",
      "source": [
        "import geopandas as gpd\n",
        "def load_geo():\n",
        "    world = gpd.read_file(gpd.datasets.get_path('naturalearth_lowres'))\n",
        "    # Fix missing country codes in +data...\n",
        "    world.loc[world['name'] == 'France', 'iso_a3'] = 'FRA'\n",
        "    world.loc[world['name'] == 'Norway', 'iso_a3'] = 'NOR'\n",
        "    world.loc[world['name'] == 'Somaliland', 'iso_a3'] = 'SOM'\n",
        "    world.loc[world['name'] == 'Kosovo', 'iso_a3'] = 'RKS'\n",
        "\n",
        "    # otherwise 2 rows values for Somalia\n",
        "    world = world.dissolve(by='iso_a3').reset_index()\n",
        "\n",
        "    return world\n",
        "# Load global Geometries from naturalearth\n",
        "world = load_geo()\n",
        "world = world.rename(columns={'iso_a3':'code'})\n",
        "\n",
        "table1 = world[['code', 'continent', 'geometry']].merge(table1)"
      ],
      "metadata": {
        "id": "peMkKRHb4JRs"
      },
      "execution_count": null,
      "outputs": []
    },
    {
      "cell_type": "code",
      "source": [
        "import matplotlib.pyplot as plt\n",
        "import seaborn as sns\n",
        "import plotly.express as px"
      ],
      "metadata": {
        "id": "FSCyFXk_6OST"
      },
      "execution_count": null,
      "outputs": []
    },
    {
      "cell_type": "code",
      "source": [
        "df = table1[['code', 'entity', 'geometry', 'year', 'depression']]\n",
        "\n",
        "# Create a choropleth map of the prevalence of depression by country/entity\n",
        "fig, ax = plt.subplots(figsize=(10, 5))\n",
        "df.plot(column='depression', cmap='BuPu', legend=True, ax=ax)\n",
        "ax.set_title('Поширеність депресії за країнами')\n",
        "\n",
        "plt.show()"
      ],
      "metadata": {
        "colab": {
          "base_uri": "https://localhost:8080/",
          "height": 422
        },
        "id": "_VTRG3Y9MhmM",
        "outputId": "99a4b622-12f7-4df3-bc9a-64ae7126e367"
      },
      "execution_count": null,
      "outputs": [
        {
          "output_type": "display_data",
          "data": {
            "text/plain": [
              "<Figure size 1000x500 with 2 Axes>"
            ],
            "image/png": "[encoded data removed]"
          },
          "metadata": {}
        }
      ]
    },
    {
      "cell_type": "code",
      "source": [
        "import pandas as pd\n",
        "df = pd.read_csv('/content/eurodata.csv')\n",
        "df = df.dropna()\n",
        "df['age'] = df['age'].str.replace(' years', '')\n",
        "df['cause'] = df['cause'].str.replace('disorders', 'disorder')\n",
        "df = df.drop(columns=['metric','upper', 'lower'])\n",
        "df = df[df['val'] != 0]\n",
        "df['val'] = df['val'] * 100\n",
        "print(df)"
      ],
      "metadata": {
        "colab": {
          "base_uri": "https://localhost:8080/"
        },
        "id": "XMIb9cXxCF9n",
        "outputId": "d2b0a43c-78da-4f8c-de83-0c9444fba7dc"
      },
      "execution_count": null,
      "outputs": [
        {
          "output_type": "stream",
          "name": "stdout",
          "text": [
            "           measure        location     sex    age                 cause  year  \\\n",
            "0           Deaths      Montenegro    Male  20-24  Alcohol use disorder  1990   \n",
            "1           Deaths      Montenegro  Female  20-24  Alcohol use disorder  1990   \n",
            "2           Deaths      Montenegro    Male  25-29  Alcohol use disorder  1990   \n",
            "3           Deaths      Montenegro  Female  25-29  Alcohol use disorder  1990   \n",
            "4           Deaths      Montenegro    Male  30-34  Alcohol use disorder  1990   \n",
            "...            ...             ...     ...    ...                   ...   ...   \n",
            "413935  Prevalence  United Kingdom  Female  45-49       Eating disorder  2017   \n",
            "413936  Prevalence  United Kingdom    Male  45-49       Eating disorder  2018   \n",
            "413937  Prevalence  United Kingdom  Female  45-49       Eating disorder  2018   \n",
            "413938  Prevalence  United Kingdom    Male  45-49       Eating disorder  2019   \n",
            "413939  Prevalence  United Kingdom  Female  45-49       Eating disorder  2019   \n",
            "\n",
            "             val  \n",
            "0       0.267271  \n",
            "1       0.171260  \n",
            "2       0.487800  \n",
            "3       0.406468  \n",
            "4       0.746859  \n",
            "...          ...  \n",
            "413935  0.491040  \n",
            "413936  0.120395  \n",
            "413937  0.493119  \n",
            "413938  0.120935  \n",
            "413939  0.494013  \n",
            "\n",
            "[369949 rows x 7 columns]\n"
          ]
        }
      ]
    },
    {
      "cell_type": "code",
      "source": [
        "df.info()"
      ],
      "metadata": {
        "colab": {
          "base_uri": "https://localhost:8080/"
        },
        "id": "eo0lZgClICK5",
        "outputId": "f3b613ae-8d9a-4d23-a9e5-be008acc20f6"
      },
      "execution_count": null,
      "outputs": [
        {
          "output_type": "stream",
          "name": "stdout",
          "text": [
            "<class 'pandas.core.frame.DataFrame'>\n",
            "Int64Index: 235942 entries, 0 to 262551\n",
            "Data columns (total 7 columns):\n",
            " #   Column    Non-Null Count   Dtype  \n",
            "---  ------    --------------   -----  \n",
            " 0   measure   235942 non-null  object \n",
            " 1   location  235942 non-null  object \n",
            " 2   sex       235942 non-null  object \n",
            " 3   age       235942 non-null  object \n",
            " 4   cause     235942 non-null  object \n",
            " 5   year      235942 non-null  int64  \n",
            " 6   val       235942 non-null  float64\n",
            "dtypes: float64(1), int64(1), object(5)\n",
            "memory usage: 14.4+ MB\n"
          ]
        }
      ]
    },
    {
      "cell_type": "code",
      "source": [
        "unique_locations = df['location'].unique()\n",
        "disorder = df['cause'].unique()\n",
        "for cause in disorder:\n",
        "  print(cause)\n",
        "for location in unique_locations:\n",
        "    print(location)"
      ],
      "metadata": {
        "colab": {
          "base_uri": "https://localhost:8080/"
        },
        "id": "mK6cCHZSKQ3r",
        "outputId": "a1803a05-4e25-49af-fae4-bdea15259038"
      },
      "execution_count": null,
      "outputs": [
        {
          "output_type": "stream",
          "name": "stdout",
          "text": [
            "Alcohol use disorders\n",
            "Drug use disorders\n",
            "Eating disorders\n",
            "Anxiety disorders\n",
            "Depressive disorders\n",
            "Schizophrenia\n",
            "Bipolar disorder\n",
            "Other mental disorders\n",
            "Idiopathic developmental intellectual disability\n",
            "Attention-deficit/hyperactivity disorder\n",
            "Autism spectrum disorders\n",
            "Conduct disorder\n",
            "Montenegro\n",
            "Greece\n",
            "Poland\n",
            "Hungary\n",
            "Iceland\n",
            "France\n",
            "Ireland\n",
            "Sweden\n",
            "San Marino\n",
            "Croatia\n",
            "Cyprus\n",
            "Russian Federation\n",
            "Monaco\n",
            "Denmark\n",
            "Latvia\n",
            "Western Europe\n",
            "Portugal\n",
            "Switzerland\n",
            "North Macedonia\n",
            "Serbia\n",
            "Austria\n",
            "Lithuania\n",
            "Slovakia\n",
            "Czechia\n",
            "Spain\n",
            "Romania\n",
            "Slovenia\n",
            "Belgium\n",
            "Bosnia and Herzegovina\n",
            "Finland\n",
            "Republic of Moldova\n",
            "Bulgaria\n",
            "Germany\n",
            "Israel\n",
            "Ukraine\n",
            "Italy\n",
            "Belarus\n",
            "Central Europe\n",
            "Eastern Europe\n",
            "Malta\n",
            "Albania\n",
            "United Kingdom\n",
            "Netherlands\n",
            "Andorra\n",
            "Luxembourg\n",
            "Estonia\n",
            "Norway\n"
          ]
        }
      ]
    },
    {
      "cell_type": "code",
      "source": [
        "import seaborn as sns\n",
        "import matplotlib.pyplot as plt\n",
        "\n",
        "causes = ['Alcohol use disorders','Drug use disorders' ]\n",
        "newdf = df.loc[(df['cause'].isin(causes))]\n",
        "sns.lineplot(x=\"year\", y=\"val\",\n",
        "             hue=\"cause\", style=\"sex\",\n",
        "             data=newdf)\n",
        "plt.legend(bbox_to_anchor=(1.02, 1), loc='upper left', borderaxespad=0)"
      ],
      "metadata": {
        "colab": {
          "base_uri": "https://localhost:8080/",
          "height": 466
        },
        "id": "uOQpQJohQCv6",
        "outputId": "416f311d-65ea-42d4-be1f-67e19bd2a34e"
      },
      "execution_count": null,
      "outputs": [
        {
          "output_type": "execute_result",
          "data": {
            "text/plain": [
              "<matplotlib.legend.Legend at 0x7fe8fc87ece0>"
            ]
          },
          "metadata": {},
          "execution_count": 6
        },
        {
          "output_type": "display_data",
          "data": {
            "text/plain": [
              "<Figure size 640x480 with 1 Axes>"
            ],
            "image/png": "[encoded data removed]"
          },
          "metadata": {}
        }
      ]
    },
    {
      "cell_type": "code",
      "source": [
        "\n",
        "newdf = df[df['measure'] == 'Prevalence']\n",
        "g = sns.catplot(data = newdf, kind = 'bar',\n",
        "                x = 'cause', y = 'val',\n",
        "                hue = 'sex', palette=\"bright\",\n",
        "                alpha=.6, height=6)\n",
        "\n",
        "g.despine(left=True)\n",
        "g.set_axis_labels(\"\", \"Percentage\")\n",
        "g.fig.suptitle(\"Prevalence of Mental Health Disorder Share per Sex\")\n",
        "\n",
        "g.ax.set_xticklabels(g.ax.get_xticklabels(), rotation=90)\n"
      ],
      "metadata": {
        "colab": {
          "base_uri": "https://localhost:8080/",
          "height": 1000
        },
        "id": "u7Nz6rxzyvVs",
        "outputId": "696f859b-476a-4bab-a6de-b55999108c50"
      },
      "execution_count": null,
      "outputs": [
        {
          "output_type": "execute_result",
          "data": {
            "text/plain": [
              "[Text(0, 0, 'Anxiety disorder'),\n",
              " Text(1, 0, 'Depressive disorder'),\n",
              " Text(2, 0, 'Schizophrenia'),\n",
              " Text(3, 0, 'Bipolar disorder'),\n",
              " Text(4, 0, 'Other mental disorder'),\n",
              " Text(5, 0, 'Alcohol use disorder'),\n",
              " Text(6, 0, 'Eating disorder'),\n",
              " Text(7, 0, 'Idiopathic developmental intellectual disability'),\n",
              " Text(8, 0, 'Attention-deficit/hyperactivity disorder'),\n",
              " Text(9, 0, 'Autism spectrum disorder'),\n",
              " Text(10, 0, 'Drug use disorder'),\n",
              " Text(11, 0, 'Conduct disorder')]"
            ]
          },
          "metadata": {},
          "execution_count": 18
        },
        {
          "output_type": "display_data",
          "data": {
            "text/plain": [
              "<Figure size 700.25x600 with 1 Axes>"
            ],
            "image/png": "[encoded data removed]"
          },
          "metadata": {}
        }
      ]
    },
    {
      "cell_type": "code",
      "source": [
        "locations = ['Eastern Europe', 'Central Europe', 'Western Europe']\n",
        "newdf = newdf.loc[(newdf['location'].isin(locations))]\n",
        "g = sns.catplot(data = newdf, kind = 'bar',\n",
        "                x = 'cause', y = 'val',\n",
        "                hue = 'location', palette=\"bright\",\n",
        "                alpha=.6, height=6)\n",
        "\n",
        "g.despine(left=True)\n",
        "g.set_axis_labels(\"\", \"Percentage\")\n",
        "g.legend.set_title(\"\")\n",
        "g.fig.suptitle(\"Prevalence of Mental Health Disorder Share per Region\")\n",
        "\n",
        "g.ax.set_xticklabels(g.ax.get_xticklabels(), rotation=90)"
      ],
      "metadata": {
        "colab": {
          "base_uri": "https://localhost:8080/",
          "height": 1000
        },
        "id": "XmJ4bByq_7Em",
        "outputId": "16ed2592-0192-4dd4-cd65-4eab331b9511"
      },
      "execution_count": null,
      "outputs": [
        {
          "output_type": "execute_result",
          "data": {
            "text/plain": [
              "[Text(0, 0, 'Schizophrenia'),\n",
              " Text(1, 0, 'Drug use disorder'),\n",
              " Text(2, 0, 'Anxiety disorder'),\n",
              " Text(3, 0, 'Attention-deficit/hyperactivity disorder'),\n",
              " Text(4, 0, 'Depressive disorder'),\n",
              " Text(5, 0, 'Idiopathic developmental intellectual disability'),\n",
              " Text(6, 0, 'Alcohol use disorder'),\n",
              " Text(7, 0, 'Other mental disorder'),\n",
              " Text(8, 0, 'Eating disorder'),\n",
              " Text(9, 0, 'Bipolar disorder'),\n",
              " Text(10, 0, 'Autism spectrum disorder'),\n",
              " Text(11, 0, 'Conduct disorder')]"
            ]
          },
          "metadata": {},
          "execution_count": 25
        },
        {
          "output_type": "display_data",
          "data": {
            "text/plain": [
              "<Figure size 760.125x600 with 1 Axes>"
            ],
            "image/png": "[encoded data removed]"
          },
          "metadata": {}
        }
      ]
    }
  ]
}